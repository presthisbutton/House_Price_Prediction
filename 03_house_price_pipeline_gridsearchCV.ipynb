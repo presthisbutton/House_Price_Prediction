{
 "cells": [
  {
   "cell_type": "code",
   "execution_count": 21,
   "id": "4b68e51d-7b5b-4e6e-830c-266789fddc48",
   "metadata": {},
   "outputs": [],
   "source": [
    "import pandas as pd\n",
    "import numpy as np\n",
    "import matplotlib.pyplot as plt\n",
    "import seaborn as sns\n",
    "from sklearn.model_selection import train_test_split\n",
    "from sklearn.metrics import accuracy_score\n",
    "from sklearn.tree import DecisionTreeClassifier, plot_tree\n",
    "from sklearn.impute import SimpleImputer\n",
    "from sklearn.pipeline import make_pipeline\n",
    "from sklearn.model_selection import GridSearchCV\n",
    "from sklearn.preprocessing import StandardScaler"
   ]
  },
  {
   "cell_type": "code",
   "execution_count": 2,
   "id": "7b93bd9a-922a-44be-bd8b-5cbd9a5a5f7e",
   "metadata": {},
   "outputs": [
    {
     "data": {
      "text/html": [
       "<div>\n",
       "<style scoped>\n",
       "    .dataframe tbody tr th:only-of-type {\n",
       "        vertical-align: middle;\n",
       "    }\n",
       "\n",
       "    .dataframe tbody tr th {\n",
       "        vertical-align: top;\n",
       "    }\n",
       "\n",
       "    .dataframe thead th {\n",
       "        text-align: right;\n",
       "    }\n",
       "</style>\n",
       "<table border=\"1\" class=\"dataframe\">\n",
       "  <thead>\n",
       "    <tr style=\"text-align: right;\">\n",
       "      <th></th>\n",
       "      <th>LotArea</th>\n",
       "      <th>LotFrontage</th>\n",
       "      <th>TotalBsmtSF</th>\n",
       "      <th>BedroomAbvGr</th>\n",
       "      <th>Fireplaces</th>\n",
       "      <th>PoolArea</th>\n",
       "      <th>GarageCars</th>\n",
       "      <th>WoodDeckSF</th>\n",
       "      <th>ScreenPorch</th>\n",
       "      <th>Expensive</th>\n",
       "    </tr>\n",
       "  </thead>\n",
       "  <tbody>\n",
       "    <tr>\n",
       "      <th>0</th>\n",
       "      <td>8450</td>\n",
       "      <td>65.0</td>\n",
       "      <td>856</td>\n",
       "      <td>3</td>\n",
       "      <td>0</td>\n",
       "      <td>0</td>\n",
       "      <td>2</td>\n",
       "      <td>0</td>\n",
       "      <td>0</td>\n",
       "      <td>0</td>\n",
       "    </tr>\n",
       "    <tr>\n",
       "      <th>1</th>\n",
       "      <td>9600</td>\n",
       "      <td>80.0</td>\n",
       "      <td>1262</td>\n",
       "      <td>3</td>\n",
       "      <td>1</td>\n",
       "      <td>0</td>\n",
       "      <td>2</td>\n",
       "      <td>298</td>\n",
       "      <td>0</td>\n",
       "      <td>0</td>\n",
       "    </tr>\n",
       "    <tr>\n",
       "      <th>2</th>\n",
       "      <td>11250</td>\n",
       "      <td>68.0</td>\n",
       "      <td>920</td>\n",
       "      <td>3</td>\n",
       "      <td>1</td>\n",
       "      <td>0</td>\n",
       "      <td>2</td>\n",
       "      <td>0</td>\n",
       "      <td>0</td>\n",
       "      <td>0</td>\n",
       "    </tr>\n",
       "    <tr>\n",
       "      <th>3</th>\n",
       "      <td>9550</td>\n",
       "      <td>60.0</td>\n",
       "      <td>756</td>\n",
       "      <td>3</td>\n",
       "      <td>1</td>\n",
       "      <td>0</td>\n",
       "      <td>3</td>\n",
       "      <td>0</td>\n",
       "      <td>0</td>\n",
       "      <td>0</td>\n",
       "    </tr>\n",
       "    <tr>\n",
       "      <th>4</th>\n",
       "      <td>14260</td>\n",
       "      <td>84.0</td>\n",
       "      <td>1145</td>\n",
       "      <td>4</td>\n",
       "      <td>1</td>\n",
       "      <td>0</td>\n",
       "      <td>3</td>\n",
       "      <td>192</td>\n",
       "      <td>0</td>\n",
       "      <td>0</td>\n",
       "    </tr>\n",
       "    <tr>\n",
       "      <th>...</th>\n",
       "      <td>...</td>\n",
       "      <td>...</td>\n",
       "      <td>...</td>\n",
       "      <td>...</td>\n",
       "      <td>...</td>\n",
       "      <td>...</td>\n",
       "      <td>...</td>\n",
       "      <td>...</td>\n",
       "      <td>...</td>\n",
       "      <td>...</td>\n",
       "    </tr>\n",
       "    <tr>\n",
       "      <th>1455</th>\n",
       "      <td>7917</td>\n",
       "      <td>62.0</td>\n",
       "      <td>953</td>\n",
       "      <td>3</td>\n",
       "      <td>1</td>\n",
       "      <td>0</td>\n",
       "      <td>2</td>\n",
       "      <td>0</td>\n",
       "      <td>0</td>\n",
       "      <td>0</td>\n",
       "    </tr>\n",
       "    <tr>\n",
       "      <th>1456</th>\n",
       "      <td>13175</td>\n",
       "      <td>85.0</td>\n",
       "      <td>1542</td>\n",
       "      <td>3</td>\n",
       "      <td>2</td>\n",
       "      <td>0</td>\n",
       "      <td>2</td>\n",
       "      <td>349</td>\n",
       "      <td>0</td>\n",
       "      <td>0</td>\n",
       "    </tr>\n",
       "    <tr>\n",
       "      <th>1457</th>\n",
       "      <td>9042</td>\n",
       "      <td>66.0</td>\n",
       "      <td>1152</td>\n",
       "      <td>4</td>\n",
       "      <td>2</td>\n",
       "      <td>0</td>\n",
       "      <td>1</td>\n",
       "      <td>0</td>\n",
       "      <td>0</td>\n",
       "      <td>1</td>\n",
       "    </tr>\n",
       "    <tr>\n",
       "      <th>1458</th>\n",
       "      <td>9717</td>\n",
       "      <td>68.0</td>\n",
       "      <td>1078</td>\n",
       "      <td>2</td>\n",
       "      <td>0</td>\n",
       "      <td>0</td>\n",
       "      <td>1</td>\n",
       "      <td>366</td>\n",
       "      <td>0</td>\n",
       "      <td>0</td>\n",
       "    </tr>\n",
       "    <tr>\n",
       "      <th>1459</th>\n",
       "      <td>9937</td>\n",
       "      <td>75.0</td>\n",
       "      <td>1256</td>\n",
       "      <td>3</td>\n",
       "      <td>0</td>\n",
       "      <td>0</td>\n",
       "      <td>1</td>\n",
       "      <td>736</td>\n",
       "      <td>0</td>\n",
       "      <td>0</td>\n",
       "    </tr>\n",
       "  </tbody>\n",
       "</table>\n",
       "<p>1460 rows × 10 columns</p>\n",
       "</div>"
      ],
      "text/plain": [
       "      LotArea  LotFrontage  TotalBsmtSF  BedroomAbvGr  Fireplaces  PoolArea  \\\n",
       "0        8450         65.0          856             3           0         0   \n",
       "1        9600         80.0         1262             3           1         0   \n",
       "2       11250         68.0          920             3           1         0   \n",
       "3        9550         60.0          756             3           1         0   \n",
       "4       14260         84.0         1145             4           1         0   \n",
       "...       ...          ...          ...           ...         ...       ...   \n",
       "1455     7917         62.0          953             3           1         0   \n",
       "1456    13175         85.0         1542             3           2         0   \n",
       "1457     9042         66.0         1152             4           2         0   \n",
       "1458     9717         68.0         1078             2           0         0   \n",
       "1459     9937         75.0         1256             3           0         0   \n",
       "\n",
       "      GarageCars  WoodDeckSF  ScreenPorch  Expensive  \n",
       "0              2           0            0          0  \n",
       "1              2         298            0          0  \n",
       "2              2           0            0          0  \n",
       "3              3           0            0          0  \n",
       "4              3         192            0          0  \n",
       "...          ...         ...          ...        ...  \n",
       "1455           2           0            0          0  \n",
       "1456           2         349            0          0  \n",
       "1457           1           0            0          1  \n",
       "1458           1         366            0          0  \n",
       "1459           1         736            0          0  \n",
       "\n",
       "[1460 rows x 10 columns]"
      ]
     },
     "execution_count": 2,
     "metadata": {},
     "output_type": "execute_result"
    }
   ],
   "source": [
    "house_price = pd.read_csv(\"Data/housing_iter_0-2/housing-classification-iter-0-2.csv\")\n",
    "house_price"
   ]
  },
  {
   "cell_type": "code",
   "execution_count": 3,
   "id": "bc56f7fb-ef90-48f9-8ced-29997f690491",
   "metadata": {},
   "outputs": [],
   "source": [
    "y = house_price.pop(\"Expensive\")"
   ]
  },
  {
   "cell_type": "code",
   "execution_count": 4,
   "id": "b8491de3-b59d-4bcd-9eda-59f6870d0e9c",
   "metadata": {},
   "outputs": [],
   "source": [
    "X = house_price.copy()"
   ]
  },
  {
   "cell_type": "code",
   "execution_count": 5,
   "id": "8e5bcae3-2f0c-485c-b365-d104f110b131",
   "metadata": {},
   "outputs": [],
   "source": [
    "# split the dataset into training and testing dataset\n",
    "X_train, X_test, y_train, y_test = train_test_split(X, y, test_size = 0.2, random_state = 100)"
   ]
  },
  {
   "cell_type": "code",
   "execution_count": 7,
   "id": "f9d477de-51d0-4e47-9386-b55222fa06a6",
   "metadata": {},
   "outputs": [],
   "source": [
    "# initialize transformers and model\n",
    "# create a pipeline to be used for the grid search \n",
    "imputer = SimpleImputer()\n",
    "dtree = DecisionTreeClassifier()\n",
    "pipeline = make_pipeline(imputer, dtree)"
   ]
  },
  {
   "cell_type": "code",
   "execution_count": 8,
   "id": "93c393eb-4e8d-4dd4-bdb3-bd676e55b856",
   "metadata": {},
   "outputs": [],
   "source": [
    "# create a set of parameters for the grid search\n",
    "param_grid = {\"simpleimputer__strategy\": [\"mean\", \"median\"],\n",
    "              \"decisiontreeclassifier__max_depth\": range(1, 10),\n",
    "              \"decisiontreeclassifier__min_samples_leaf\": range(5, 31, 5),\n",
    "              \"decisiontreeclassifier__min_samples_split\": range(3, 41, 5),\n",
    "              \"decisiontreeclassifier__criterion\": [\"gini\", \"entropy\"]\n",
    "             }"
   ]
  },
  {
   "cell_type": "code",
   "execution_count": 9,
   "id": "0bde527e-fbbe-4105-b056-d7b134853ace",
   "metadata": {},
   "outputs": [],
   "source": [
    "search = GridSearchCV(pipeline, # you have defined this beforehand\n",
    "                      param_grid, # your parameter grid\n",
    "                      cv = 5, # the value for K in K-fold Cross Validation\n",
    "                      scoring = \"accuracy\", # the performance metric to use, \n",
    "                      verbose = 1) # we want informative outputs during the training process"
   ]
  },
  {
   "cell_type": "code",
   "execution_count": 10,
   "id": "50b04670-9e7f-4a7e-9cf0-2b7cdab007fd",
   "metadata": {},
   "outputs": [
    {
     "name": "stdout",
     "output_type": "stream",
     "text": [
      "Fitting 5 folds for each of 1728 candidates, totalling 8640 fits\n"
     ]
    },
    {
     "data": {
      "text/plain": [
       "GridSearchCV(cv=5,\n",
       "             estimator=Pipeline(steps=[('simpleimputer', SimpleImputer()),\n",
       "                                       ('decisiontreeclassifier',\n",
       "                                        DecisionTreeClassifier())]),\n",
       "             param_grid={'decisiontreeclassifier__criterion': ['gini',\n",
       "                                                               'entropy'],\n",
       "                         'decisiontreeclassifier__max_depth': range(1, 10),\n",
       "                         'decisiontreeclassifier__min_samples_leaf': range(5, 31, 5),\n",
       "                         'decisiontreeclassifier__min_samples_split': range(3, 41, 5),\n",
       "                         'simpleimputer__strategy': ['mean', 'median']},\n",
       "             scoring='accuracy', verbose=1)"
      ]
     },
     "execution_count": 10,
     "metadata": {},
     "output_type": "execute_result"
    }
   ],
   "source": [
    "search.fit(X_train, y_train)"
   ]
  },
  {
   "cell_type": "code",
   "execution_count": 11,
   "id": "6833af37-d99f-4e80-98a9-9451a0ec1302",
   "metadata": {},
   "outputs": [
    {
     "data": {
      "text/plain": [
       "{'decisiontreeclassifier__criterion': 'entropy',\n",
       " 'decisiontreeclassifier__max_depth': 5,\n",
       " 'decisiontreeclassifier__min_samples_leaf': 5,\n",
       " 'decisiontreeclassifier__min_samples_split': 3,\n",
       " 'simpleimputer__strategy': 'median'}"
      ]
     },
     "execution_count": 11,
     "metadata": {},
     "output_type": "execute_result"
    }
   ],
   "source": [
    "search.best_params_"
   ]
  },
  {
   "cell_type": "code",
   "execution_count": 12,
   "id": "9cd839a6-de84-4e1f-b135-b234d8669511",
   "metadata": {},
   "outputs": [
    {
     "data": {
      "text/plain": [
       "0.9220864971937933"
      ]
     },
     "execution_count": 12,
     "metadata": {},
     "output_type": "execute_result"
    }
   ],
   "source": [
    "search.best_score_"
   ]
  },
  {
   "cell_type": "code",
   "execution_count": 13,
   "id": "8414fc74-3c54-4b27-be6a-fdd6d03e79cb",
   "metadata": {},
   "outputs": [],
   "source": [
    "# create a pipeline from the optimal parameters from the grid search\n",
    "op_imputer = SimpleImputer(strategy = \"median\")\n",
    "op_dtree = DecisionTreeClassifier(criterion = \"entropy\", max_depth = 5, min_samples_leaf = 5, \n",
    "                                    min_samples_split = 3)\n",
    "op_pipeline = make_pipeline(op_imputer, op_dtree)"
   ]
  },
  {
   "cell_type": "code",
   "execution_count": 14,
   "id": "2190d8a3-8388-44c9-a7e1-4409bfb07fc3",
   "metadata": {},
   "outputs": [
    {
     "data": {
      "text/plain": [
       "Pipeline(steps=[('simpleimputer', SimpleImputer(strategy='median')),\n",
       "                ('decisiontreeclassifier',\n",
       "                 DecisionTreeClassifier(criterion='entropy', max_depth=5,\n",
       "                                        min_samples_leaf=5,\n",
       "                                        min_samples_split=3))])"
      ]
     },
     "execution_count": 14,
     "metadata": {},
     "output_type": "execute_result"
    }
   ],
   "source": [
    "op_pipeline.fit(X_train, y_train)"
   ]
  },
  {
   "cell_type": "code",
   "execution_count": 15,
   "id": "5edf472b-23cf-48a0-b5be-3870211f819f",
   "metadata": {},
   "outputs": [],
   "source": [
    "y_train_pred = op_pipeline.predict(X_train)"
   ]
  },
  {
   "cell_type": "code",
   "execution_count": 16,
   "id": "15c3b26a-6d09-4aea-8232-63586e5e73e4",
   "metadata": {},
   "outputs": [
    {
     "data": {
      "text/plain": [
       "0.9357876712328768"
      ]
     },
     "execution_count": 16,
     "metadata": {},
     "output_type": "execute_result"
    }
   ],
   "source": [
    "accuracy_score(y_true = y_train, y_pred = y_train_pred)"
   ]
  },
  {
   "cell_type": "code",
   "execution_count": 17,
   "id": "1f70f8e6-1567-4ae2-b017-6bfd0060f189",
   "metadata": {},
   "outputs": [],
   "source": [
    "y_test_pred = op_pipeline.predict(X_test)"
   ]
  },
  {
   "cell_type": "code",
   "execution_count": 18,
   "id": "19747a88-3237-4f71-8df2-2ff0ecf2f6b8",
   "metadata": {},
   "outputs": [
    {
     "data": {
      "text/plain": [
       "0.9383561643835616"
      ]
     },
     "execution_count": 18,
     "metadata": {},
     "output_type": "execute_result"
    }
   ],
   "source": [
    "accuracy_score(y_true = y_test, y_pred = y_test_pred)"
   ]
  },
  {
   "cell_type": "code",
   "execution_count": 19,
   "id": "8bada043-39d8-4c7a-ae43-ee88023e6418",
   "metadata": {},
   "outputs": [
    {
     "data": {
      "image/png": "[encoded data removed]",
      "text/plain": [
       "<Figure size 1080x720 with 1 Axes>"
      ]
     },
     "metadata": {
      "needs_background": "light"
     },
     "output_type": "display_data"
    }
   ],
   "source": [
    "plt.figure(figsize = (15, 10))\n",
    "plot_tree(op_dtree, filled = True, rounded = True, class_names = [\"Not Expensive\", \"Expensive\"], \n",
    "          feature_names = X.columns);"
   ]
  },
  {
   "cell_type": "code",
   "execution_count": 22,
   "id": "7046b147-5df8-42cf-abd6-af80db1362e2",
   "metadata": {},
   "outputs": [],
   "source": [
    "# second iteration of the pipeline with a scaler\n",
    "imputer = SimpleImputer()\n",
    "scaler = StandardScaler()\n",
    "dtree = DecisionTreeClassifier()\n",
    "\n",
    "# create the pipeline\n",
    "pipeline2 = make_pipeline(imputer, scaler, dtree)\n",
    "\n",
    "# create parameter grid\n",
    "param_grid2 = {\"simpleimputer__strategy\":[\"mean\", \"median\"],\n",
    "               \"standardscaler__with_mean\":[True, False],\n",
    "               \"standardscaler__with_std\":[True, False],\n",
    "               \"decisiontreeclassifier__max_depth\": range(1, 10),\n",
    "               \"decisiontreeclassifier__min_samples_leaf\": range(5, 31, 5),\n",
    "               \"decisiontreeclassifier__min_samples_split\": range(3, 41, 5),\n",
    "               \"decisiontreeclassifier__criterion\":[\"gini\", \"entropy\"]\n",
    "              }\n",
    "\n",
    "# define cross validation\n",
    "search2 = GridSearchCV(pipeline2, param_grid2, cv = 5, verbose = 1)"
   ]
  },
  {
   "cell_type": "code",
   "execution_count": 23,
   "id": "4e45f056-83ae-43ac-a66b-9fae75bd5eac",
   "metadata": {},
   "outputs": [
    {
     "name": "stdout",
     "output_type": "stream",
     "text": [
      "Fitting 5 folds for each of 6912 candidates, totalling 34560 fits\n"
     ]
    },
    {
     "data": {
      "text/plain": [
       "GridSearchCV(cv=5,\n",
       "             estimator=Pipeline(steps=[('simpleimputer', SimpleImputer()),\n",
       "                                       ('standardscaler', StandardScaler()),\n",
       "                                       ('decisiontreeclassifier',\n",
       "                                        DecisionTreeClassifier())]),\n",
       "             param_grid={'decisiontreeclassifier__criterion': ['gini',\n",
       "                                                               'entropy'],\n",
       "                         'decisiontreeclassifier__max_depth': range(1, 10),\n",
       "                         'decisiontreeclassifier__min_samples_leaf': range(5, 31, 5),\n",
       "                         'decisiontreeclassifier__min_samples_split': range(3, 41, 5),\n",
       "                         'simpleimputer__strategy': ['mean', 'median'],\n",
       "                         'standardscaler__with_mean': [True, False],\n",
       "                         'standardscaler__with_std': [True, False]},\n",
       "             verbose=1)"
      ]
     },
     "execution_count": 23,
     "metadata": {},
     "output_type": "execute_result"
    }
   ],
   "source": [
    "search2.fit(X_train, y_train)"
   ]
  },
  {
   "cell_type": "code",
   "execution_count": 24,
   "id": "15781170-0d31-4ed0-9f91-ae328dd9d22d",
   "metadata": {},
   "outputs": [
    {
     "data": {
      "text/plain": [
       "{'decisiontreeclassifier__criterion': 'entropy',\n",
       " 'decisiontreeclassifier__max_depth': 5,\n",
       " 'decisiontreeclassifier__min_samples_leaf': 5,\n",
       " 'decisiontreeclassifier__min_samples_split': 3,\n",
       " 'simpleimputer__strategy': 'median',\n",
       " 'standardscaler__with_mean': True,\n",
       " 'standardscaler__with_std': True}"
      ]
     },
     "execution_count": 24,
     "metadata": {},
     "output_type": "execute_result"
    }
   ],
   "source": [
    "search2.best_params_"
   ]
  },
  {
   "cell_type": "code",
   "execution_count": 25,
   "id": "2269d6c9-7042-4fa0-a067-1a8df1f04407",
   "metadata": {},
   "outputs": [
    {
     "data": {
      "text/plain": [
       "0.923795898903195"
      ]
     },
     "execution_count": 25,
     "metadata": {},
     "output_type": "execute_result"
    }
   ],
   "source": [
    "search2.best_score_"
   ]
  },
  {
   "cell_type": "code",
   "execution_count": 27,
   "id": "aafc9a9e-d73e-4f9d-9b2e-fb9fb4488aeb",
   "metadata": {},
   "outputs": [],
   "source": [
    "op_imputer2 = SimpleImputer(strategy = \"median\")\n",
    "op_scaler2 = StandardScaler()\n",
    "op_dtree2 = DecisionTreeClassifier(criterion = \"entropy\", max_depth = 5, min_samples_leaf = 5, \n",
    "                                    min_samples_split = 3)\n",
    "op_pipeline2 = make_pipeline(op_imputer2, op_scaler2, op_dtree2)"
   ]
  },
  {
   "cell_type": "code",
   "execution_count": 28,
   "id": "b1ef4881-324a-428a-ac43-c2de547889a8",
   "metadata": {},
   "outputs": [
    {
     "data": {
      "text/plain": [
       "Pipeline(steps=[('simpleimputer', SimpleImputer(strategy='median')),\n",
       "                ('standardscaler', StandardScaler()),\n",
       "                ('decisiontreeclassifier',\n",
       "                 DecisionTreeClassifier(criterion='entropy', max_depth=5,\n",
       "                                        min_samples_leaf=5,\n",
       "                                        min_samples_split=3))])"
      ]
     },
     "execution_count": 28,
     "metadata": {},
     "output_type": "execute_result"
    }
   ],
   "source": [
    "op_pipeline2.fit(X_train, y_train)"
   ]
  },
  {
   "cell_type": "code",
   "execution_count": 29,
   "id": "78c01b89-7558-4cea-906d-632d587bec72",
   "metadata": {},
   "outputs": [
    {
     "data": {
      "text/plain": [
       "0.9357876712328768"
      ]
     },
     "execution_count": 29,
     "metadata": {},
     "output_type": "execute_result"
    }
   ],
   "source": [
    "y_train_pred2 = op_pipeline2.predict(X_train)\n",
    "accuracy_score(y_true = y_train, y_pred = y_train_pred2)"
   ]
  },
  {
   "cell_type": "code",
   "execution_count": 30,
   "id": "f376aeb4-15d8-402a-a869-ae1ecb8a8822",
   "metadata": {},
   "outputs": [
    {
     "data": {
      "text/plain": [
       "0.9383561643835616"
      ]
     },
     "execution_count": 30,
     "metadata": {},
     "output_type": "execute_result"
    }
   ],
   "source": [
    "y_test_pred2 = op_pipeline2.predict(X_test)\n",
    "accuracy_score(y_true = y_test, y_pred = y_test_pred2)"
   ]
  }
 ],
 "metadata": {
  "kernelspec": {
   "display_name": "Python 3 (ipykernel)",
   "language": "python",
   "name": "python3"
  },
  "language_info": {
   "codemirror_mode": {
    "name": "ipython",
    "version": 3
   },
   "file_extension": ".py",
   "mimetype": "text/x-python",
   "name": "python",
   "nbconvert_exporter": "python",
   "pygments_lexer": "ipython3",
   "version": "3.9.12"
  }
 },
 "nbformat": 4,
 "nbformat_minor": 5
}

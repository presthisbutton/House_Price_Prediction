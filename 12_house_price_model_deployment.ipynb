{
 "cells": [
  {
   "cell_type": "code",
   "execution_count": 1,
   "id": "25a65a0b-34d2-4793-890e-9d4d9f98ec44",
   "metadata": {},
   "outputs": [],
   "source": [
    "import pandas as pd\n",
    "from sklearn.model_selection import train_test_split\n",
    "from sklearn.pipeline import make_pipeline\n",
    "from sklearn.impute import SimpleImputer\n",
    "from sklearn.preprocessing import StandardScaler\n",
    "from sklearn.neighbors import KNeighborsRegressor\n",
    "from sklearn.model_selection import GridSearchCV\n",
    "from sklearn.metrics import r2_score\n",
    "import pickle"
   ]
  },
  {
   "cell_type": "code",
   "execution_count": 2,
   "id": "889c81df-d7bf-4e8e-8bcf-6908083fcf71",
   "metadata": {},
   "outputs": [],
   "source": [
    "house_price = pd.read_csv(\"Models/housing-deployment-reg.csv\")"
   ]
  },
  {
   "cell_type": "code",
   "execution_count": 3,
   "id": "449c4729-353a-4978-97fd-d29670d30d25",
   "metadata": {},
   "outputs": [],
   "source": [
    "X = house_price.drop(columns = \"SalePrice\")\n",
    "y = house_price[\"SalePrice\"]\n",
    "X_train, X_test, y_train, y_test = train_test_split(X, y, test_size = 0.15, random_state = 8)"
   ]
  },
  {
   "cell_type": "code",
   "execution_count": 4,
   "id": "c30a50a3-8eeb-4a8c-be46-632f53bcaa61",
   "metadata": {},
   "outputs": [],
   "source": [
    "pipe = make_pipeline(\n",
    "        SimpleImputer(strategy = 'median'),\n",
    "        StandardScaler(),\n",
    "        KNeighborsRegressor())"
   ]
  },
  {
   "cell_type": "code",
   "execution_count": 5,
   "id": "83df2567-66e7-480a-8ba2-0436e0897ef4",
   "metadata": {},
   "outputs": [],
   "source": [
    "pipe_params = {\n",
    "    'simpleimputer__strategy':['median', 'mean'],\n",
    "    'standardscaler__with_mean':[True, False],\n",
    "    'kneighborsregressor__n_neighbors': range(1, 50),\n",
    "    'kneighborsregressor__weights': ['uniform', 'distance'],\n",
    "    'kneighborsregressor__p': [1, 2],\n",
    "    'kneighborsregressor__algorithm': ['ball_tree', 'kd_tree', 'brute']}"
   ]
  },
  {
   "cell_type": "code",
   "execution_count": 6,
   "id": "ed35d92f-d828-46bc-8f95-e3d06de38947",
   "metadata": {},
   "outputs": [
    {
     "data": {
      "text/plain": [
       "GridSearchCV(cv=5,\n",
       "             estimator=Pipeline(steps=[('simpleimputer',\n",
       "                                        SimpleImputer(strategy='median')),\n",
       "                                       ('standardscaler', StandardScaler()),\n",
       "                                       ('kneighborsregressor',\n",
       "                                        KNeighborsRegressor())]),\n",
       "             param_grid={'kneighborsregressor__algorithm': ['ball_tree',\n",
       "                                                            'kd_tree',\n",
       "                                                            'brute'],\n",
       "                         'kneighborsregressor__n_neighbors': range(1, 50),\n",
       "                         'kneighborsregressor__p': [1, 2],\n",
       "                         'kneighborsregressor__weights': ['uniform',\n",
       "                                                          'distance'],\n",
       "                         'simpleimputer__strategy': ['median', 'mean'],\n",
       "                         'standardscaler__with_mean': [True, False]})"
      ]
     },
     "execution_count": 6,
     "metadata": {},
     "output_type": "execute_result"
    }
   ],
   "source": [
    "trained_pipe = GridSearchCV(pipe,\n",
    "                            pipe_params, \n",
    "                            cv = 5)\n",
    "trained_pipe.fit(X_train, y_train)"
   ]
  },
  {
   "cell_type": "code",
   "execution_count": 8,
   "id": "8b32f6a6-20d5-4c99-9a4a-58c2502fcbbf",
   "metadata": {},
   "outputs": [
    {
     "data": {
      "text/plain": [
       "{'kneighborsregressor__algorithm': 'ball_tree',\n",
       " 'kneighborsregressor__n_neighbors': 8,\n",
       " 'kneighborsregressor__p': 1,\n",
       " 'kneighborsregressor__weights': 'distance',\n",
       " 'simpleimputer__strategy': 'median',\n",
       " 'standardscaler__with_mean': False}"
      ]
     },
     "execution_count": 8,
     "metadata": {},
     "output_type": "execute_result"
    }
   ],
   "source": [
    "trained_pipe.best_params_"
   ]
  },
  {
   "cell_type": "code",
   "execution_count": 9,
   "id": "91e98658-c794-4306-9dba-a158c731f6eb",
   "metadata": {},
   "outputs": [
    {
     "data": {
      "text/plain": [
       "0.6578685128263719"
      ]
     },
     "execution_count": 9,
     "metadata": {},
     "output_type": "execute_result"
    }
   ],
   "source": [
    "trained_pipe.best_score_"
   ]
  },
  {
   "cell_type": "code",
   "execution_count": 16,
   "id": "b4b51788-23be-4f9e-9a2b-8fe0935dfdbb",
   "metadata": {},
   "outputs": [
    {
     "name": "stdout",
     "output_type": "stream",
     "text": [
      "0.9997984008019197\n"
     ]
    }
   ],
   "source": [
    "y_train_pred = trained_pipe.predict(X_train) \n",
    "r2 = r2_score(y_pred = y_train_pred, y_true = y_train)\n",
    "print(r2)"
   ]
  },
  {
   "cell_type": "code",
   "execution_count": 17,
   "id": "503903e6-0639-4443-aa94-a7151d0a5fe3",
   "metadata": {},
   "outputs": [
    {
     "name": "stdout",
     "output_type": "stream",
     "text": [
      "0.7222877652002777\n"
     ]
    }
   ],
   "source": [
    "y_test_pred = trained_pipe.predict(X_test) \n",
    "r2 = r2_score(y_pred = y_test_pred, y_true = y_test)\n",
    "print(r2)"
   ]
  },
  {
   "cell_type": "code",
   "execution_count": 18,
   "id": "2da94644-7a79-435c-89dd-f637ae50e209",
   "metadata": {},
   "outputs": [],
   "source": [
    "# store the trained pipeline\n",
    "pickle.dump(trained_pipe, \n",
    "            open(file = 'Models/trained_pipe_knn.sav', \n",
    "                 mode = 'wb'))"
   ]
  },
  {
   "cell_type": "code",
   "execution_count": 19,
   "id": "0177d65b-3f89-444c-b9ca-0ac6a1e6df68",
   "metadata": {},
   "outputs": [],
   "source": [
    "# load model\n",
    "loaded_model = pickle.load(open('Models/trained_pipe_knn.sav', 'rb'))"
   ]
  },
  {
   "cell_type": "code",
   "execution_count": 24,
   "id": "1d0845b7-d31d-4060-b245-180cbbc0652f",
   "metadata": {},
   "outputs": [],
   "source": [
    "# new house with fake data\n",
    "new_house = pd.DataFrame({\n",
    "    'LotArea':[5000],\n",
    "    'TotalBsmtSF':[1000], \n",
    "    'BedroomAbvGr':[5], \n",
    "    'GarageCars':[3]\n",
    "})"
   ]
  },
  {
   "cell_type": "code",
   "execution_count": 25,
   "id": "5c1e6f10-1c85-4b68-8a8d-3cc08295bd28",
   "metadata": {},
   "outputs": [
    {
     "data": {
      "text/plain": [
       "array([188572.43369144])"
      ]
     },
     "execution_count": 25,
     "metadata": {},
     "output_type": "execute_result"
    }
   ],
   "source": [
    "# prediction\n",
    "loaded_model.predict(new_house)"
   ]
  }
 ],
 "metadata": {
  "kernelspec": {
   "display_name": "Python 3 (ipykernel)",
   "language": "python",
   "name": "python3"
  },
  "language_info": {
   "codemirror_mode": {
    "name": "ipython",
    "version": 3
   },
   "file_extension": ".py",
   "mimetype": "text/x-python",
   "name": "python",
   "nbconvert_exporter": "python",
   "pygments_lexer": "ipython3",
   "version": "3.9.12"
  }
 },
 "nbformat": 4,
 "nbformat_minor": 5
}
